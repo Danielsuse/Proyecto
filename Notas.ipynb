{
 "cells": [
  {
   "cell_type": "markdown",
   "metadata": {},
   "source": [
    "## Para guardar y comit (desde la terminal) : \n",
    "\n",
    "git add .\n",
    "git commit -m \"nuevos cambios en proyecto\"\n",
    "\n",
    "git push origin main "
   ]
  },
  {
   "cell_type": "code",
   "execution_count": null,
   "metadata": {},
   "outputs": [],
   "source": [
    "import pandas as pd\n",
    "import numpy as np\n",
    "from scipy.stats import*\n",
    "import yfinance as yf\n",
    "import matplotlib as mt"
   ]
  },
  {
   "cell_type": "code",
   "execution_count": null,
   "metadata": {},
   "outputs": [],
   "source": [
    "def obtener_datos(activo): \n",
    "    \n",
    "    # Descargar los datos\n",
    "    df = yf.download(activo, start = \"2010-01-01\", progress=False )['Close']\n",
    "    return df\n",
    "    \n",
    "    \n",
    "\n",
    "def calcular_rendimientos(df):\n",
    "     return df.pct_change().dropna()\n"
   ]
  },
  {
   "cell_type": "code",
   "execution_count": null,
   "metadata": {},
   "outputs": [],
   "source": [
    "activo_escogido = ['BTC-USD']"
   ]
  },
  {
   "cell_type": "code",
   "execution_count": null,
   "metadata": {},
   "outputs": [],
   "source": [
    "df_precios = obtener_datos(activo_escogido)\n",
    "df_rendimientos = calcular_rendimientos(df_precios)\n",
    "\n",
    "df_rendimientos"
   ]
  },
  {
   "cell_type": "code",
   "execution_count": null,
   "metadata": {},
   "outputs": [],
   "source": [
    "df = yf.download('BTC-USD', start = '2010-01-01', progress = False )['Close']  \n",
    "returns = df.pct_change().dropna() \n",
    "returns\n",
    "\n",
    "# pct_change() calcula la variación porcentual entre un período y el siguiente.\n",
    "# Como la función pct_change() genera un NaN en la primera fila (porque no hay un período anterior con el que comparar), dropna() elimina esta fila.\n",
    "\n",
    "returns = returns.squeeze() # Asegura que returns es una Serie, así también asegurará que np.mean() y np.std() devuelvan escalares.\n",
    "\n",
    "returns"
   ]
  },
  {
   "cell_type": "code",
   "execution_count": null,
   "metadata": {},
   "outputs": [],
   "source": [
    "df.plot(kind='line',title='BTC Price')"
   ]
  },
  {
   "cell_type": "code",
   "execution_count": null,
   "metadata": {},
   "outputs": [],
   "source": [
    "# Calculating Log Normal Returns\n",
    "\n",
    "# Use numpy log function to derive log normal returns\n",
    "daily_returns = np.log(df).diff().dropna()\n",
    "\n",
    "# Display the last five rows of the data frame to check the output\n",
    "daily_returns.head(5)"
   ]
  },
  {
   "cell_type": "code",
   "execution_count": null,
   "metadata": {},
   "outputs": [],
   "source": [
    "returns.plot(kind='line',title='BTC- Returns') # Graficamos los retornos (rendimientos diarios)"
   ]
  },
  {
   "cell_type": "code",
   "execution_count": null,
   "metadata": {},
   "outputs": [],
   "source": [
    "rendimiento_medio = returns.mean() #Columna de los datos\n",
    "Kurtosis = kurtosis(returns)\n",
    "skew = skew(returns)"
   ]
  },
  {
   "cell_type": "code",
   "execution_count": null,
   "metadata": {},
   "outputs": [],
   "source": [
    "rendimiento_medio"
   ]
  },
  {
   "cell_type": "code",
   "execution_count": null,
   "metadata": {},
   "outputs": [],
   "source": [
    "Kurtosis\n"
   ]
  },
  {
   "cell_type": "code",
   "execution_count": null,
   "metadata": {},
   "outputs": [],
   "source": [
    "skew\n"
   ]
  },
  {
   "cell_type": "code",
   "execution_count": null,
   "metadata": {},
   "outputs": [],
   "source": [
    "# Parametric VaR\n",
    "\n",
    "# Calculate mean and standard deviation \n",
    "mean = np.mean(returns)\n",
    "stdev = np.std(returns)\n",
    "\n",
    "VaR_95=norm.ppf(1-0.95,mean,stdev)\n",
    "\n",
    "print(\"95% VaR of SPY:\", round(VaR_95*100,4))"
   ]
  },
  {
   "cell_type": "code",
   "execution_count": null,
   "metadata": {},
   "outputs": [],
   "source": [
    "print(\"Hola\")"
   ]
  }
 ],
 "metadata": {
  "kernelspec": {
   "display_name": "Python 3",
   "language": "python",
   "name": "python3"
  },
  "language_info": {
   "name": "python",
   "version": "3.13.2"
  }
 },
 "nbformat": 4,
 "nbformat_minor": 2
}
